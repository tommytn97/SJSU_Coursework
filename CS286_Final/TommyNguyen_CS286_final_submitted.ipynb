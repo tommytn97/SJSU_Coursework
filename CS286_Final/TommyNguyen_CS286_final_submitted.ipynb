{
  "nbformat": 4,
  "nbformat_minor": 0,
  "metadata": {
    "colab": {
      "name": "TommyNguyen_CS286_final_submitted.ipynb",
      "provenance": [],
      "collapsed_sections": [
        "jdvpAafcAw5m"
      ]
    },
    "kernelspec": {
      "name": "python3",
      "display_name": "Python 3"
    },
    "language_info": {
      "name": "python"
    }
  },
  "cells": [
    {
      "cell_type": "markdown",
      "metadata": {
        "id": "kmLrrbG7-ZG2"
      },
      "source": [
        "# Tommy Nguyen\n",
        "# 5/21/21"
      ]
    },
    {
      "cell_type": "markdown",
      "metadata": {
        "id": "8tay9mAzlaH3"
      },
      "source": [
        "\n",
        "##CS286 Final exam\n",
        "##Spring 2021\n",
        "###Due: university-scheduled exam date of May 21 2021, 17:00pm (submission site stays open until 23:59pm)\n",
        "\n",
        "You may work together with your project team, and submit one solution for all team members; you can also do the final on your own if you prefer. If you work in a team, all team members will get the same grade. Everyone on your team should contribute to the solution and understand the solution (not one person doing all the work). Oral examination may be requested."
      ]
    },
    {
      "cell_type": "markdown",
      "metadata": {
        "id": "9CFxjRtSSPTF"
      },
      "source": [
        "You are given 14,004 protein sequences to classify, linked on the Canvas final page. \n",
        "We are going to use an open-access public dataset of protein sequences , originating from [DeepLoc](http://www.cbs.dtu.dk/services/DeepLoc-1.0/data.php). The dataset is a fasta file composed of headers and protein sequences. The header is composed of the accession number from Uniprot, the annotated subcellular localization and possibly a description field indicating if the protein was part of the test set. The subcellular localization includes an additional label, where S indicates soluble, M membrane and U unknown (you can ignore this label for our purposes). A sample of the data is as follows:\n",
        "\n",
        "```\n",
        "\n",
        "$ head deeploc_data.fasta \n",
        ">Q9H400 Cell.membrane-M test\n",
        "MGLPVSWAPPALWVLGCCALLLSLWALCTACRRPEDAVAPRKRARRQRARLQGSATAAEASLLRRTHLCSLSKSDTRLHELHRGPRSSRALRPASMDLLRPHWLEVSRDITGPQAAPSAFPHQELPRALPAAAATAGCAGLEATYSNVGLAALPGVSLAASPVVAEYARVQKRKGTHRSPQEPQQGKTEVTPAAQVDVLYSRVCKPKRRDPGPTTDPLDPKGQGAILALAGDLAYQTLPLRALDVDSGPLENVYESIRELGDPAGRSSTCGAGTPPASSCPSLGRGWRPLPASLP\n",
        ">Q5I0E9 Cell.membrane-M\n",
        "MEVLEEPAPGPGGADAAERRGLRRLLLSGFQEELRALLVLAGPAFLAQLMMFLISFISSVFCGHLGKLELDAVTLAIAVINVTGISVGHGLSSACDTLISQTYGSQNLKHVGVILQRGTLILLLCCFPCWALFINTEQILLLFRQDPDVSRLTQTYVMVFIPALPAAFLYTLQVKYLLNQGIVLPQVITGIAANLVNALANYLFLHQLHLGVMGSALANTISQFALAIFLFLYILWRKLHHATWGGWSWECLQDWASFLQLAIPSMLMLCIEWWAYEVGSFLSGILGMVELGAQSITYELAIIVYMIPAGFSVAANVRVGNALGAGNIDQAKKSSAISLIVTELFAVTFCVLLLGCKDLVGYIFTTDWDIVALVAQVVPIYAVSHLFEALACTCGGVLRGTGNQKVGAIVNAIGYYVIGLPIGISLMFVAKLGVIGLWSGIIICSVCQTSCFLVFIARLNWKLACQQAQVHANLKVNVALNSAVSQEPAHPVGPESHGEIMMTDLEKKDEIQLDQQMNQQQALPVHPKDSNKLSGKQLALRRGLLFLGVVLVLVGGILVRVYIRTE\n",
        "\n",
        "\n",
        "\n",
        "$ tail deeploc_data.fasta \n",
        ">V5NC32 Extracellular-S\n",
        "MFPRVVRLNSRLVSFALLGLQIANGAITYQHPDDLPSNVNYDFIVAGGGTAGLVVASRLSENSDWNILVIEAGPSNKDTPETRVPGLADSLPGSRTDWNYTTIPQDALGGRSLNYSRAKVLGGCSTHNGMVYTRGSEDDWNYWAEVTGDQALSWDSVLPIMKKAEKFSQDFSDQSVDGHIDPAVHGRDGLLSVVASYTNVSFNDLLLQTTKELSDEFPFKLDLNDGKPHELAWTQYTIDHNAERSSSATSYLETTGDNVHVLVNTHVTRIVSAGNGTNFRSVEFAVDSNSPKKVLQAKKELILSAGVIASPQVLMNSGIGGREELQAIGVDTLIDNPSVGKNLSDQAATLLMFDTTLPNTDYDVAAALTEWDKSRSGPMAHGARLNHLTWVRLPDDKLNGSDPSSGKDSPHIEFQFRQISHQLPPADVPNQVQLPDPDSIGVVLQFSVVNLYSISPGSVILNDNDPFANPMIDLNMFGDQKDIAILREGVRSARRMFSSPAFKDVINGTVYPPADVTSDEDLDAFLRTSAESYWHGVGTLSMSPQNASWGVVNPDFRVKGTSGLRVVDASVIPRAPAGHTQVPVYTFAEHASVLIAASYH\n",
        ">P86368 Extracellular-S\n",
        "SLLEFGMMILEETGKLAVPFYSSYGCYCGWGGKATPKDATDRCCFVHDCCYGNLPDCNPKSDRYKYKRVNGAIVCEQGTSCENRICECDKAAAICFRRNLNTYSKIYMLYPDFLCKGELKC\n",
        ">P80156 Extracellular-S\n",
        "TKCYKTGDRIISEACPPGQDLCYMKTWCDVFCGTRGRVIELGCTATCPTVKPHEQITCCSTDNCNPHPKMKQ\n",
        ">Q8NIH1 Extracellular-S\n",
        "MHGLLLAAAGLLSLPLHVVAHPQPSTSLAGRGVDLDAYRMADRSSYMSSDDMKLKQPAIASLSGGNYVDTATEVVKRMMPGMTFRMADDHYVGESGISHLYFRQTMHGMDIDNADFNVNIGKDGKVLSFGHSFYTGPAPDRAPVEKRDFSGPMRAFHGACKALNLPINADKATIQTMNEHEVMFVGTSGAMSDPQGKLCYMAKEDGTLALTWRVETDMGDNWLLSYVDAKETDKVHNVVDYVSHATYQVYRWPIPDPTEGKREIVENPWNLKTSPFTWISDGKTNYTTTRGNNAIAQANFDGGEDYLNNYRPNSKNLKFEYPYAPNMSPPKSYIDASVTQLFYSANIVHDLYYMLGFTEKAGNFQVNNHGQGGKGNDFVILNAQDGSGTNNANFATPPDGKPGRMRVYIWTKAKPARDSSFEAGTVIHEYTHGLSNRLCGGPANSGCLNGMESGGMGEGWGDFFATAIRLKPNDNRNANYVHGEWVNNSPKGNRLYPYSTNLQTNPLVYTSCNKYNEVHAIGTVWCSILYEVLWNLIDKHGKNDGPTPVFENGVPNDGKYLAMKLVLDGMAIQPCKPTFVQARDAIIDADMNLTKGSNKCELWKAFAKRGLGVGAKYDPKNRTGSKAVPKECQ\n",
        ">D4APA9 Extracellular-S\n",
        "MGFITKAIPLALAAASVINGAEIMETRAGVQTLADKYIVVMNDGMTDKDFDSHRSWVNRTHRRRLIRRGAKAMGGMKHTYRFPTGLKGYSGHFDEQMINEISKRADVKYIERDARVQINAIEQQDNVPSWGLARVGSKEPGGTTYYYDGTAGEGSTAYVIDTGTDIQHEEFEGRATWGANFVDDMDMDCNGHGTHVSGTIGGKTFGVAKKSNVVAVKVLDCNGSGSNSGVIMGMEWATKDAQQKGADKAVANMSLGGAFSQASNDAAAAIAKGGVFLAVAAGNDNVDAADSSPASEPSICTVAASTEQDSKADFSNFGQVVDVYAPGDSITSAKPGGGSQVLSGTSMATPHVAGLGAYLIGLGKGGGPGLCDTIKQTAIDVIQNPGASTTSKLINNGSGIGFLSFPLNIYEEQWSKLFDL\n",
        "\n",
        "\n",
        "\n",
        "$ egrep \"^>\" deeploc_data.fasta | wc\n",
        "   14004   30781  319857\n",
        "\n",
        "\n",
        "###These are the 11 subcellular localication annotations:\n",
        "\n",
        "$ egrep \"^>\" deeploc_data.fasta | sed \"s/^>.* //g\" | sed \"s/-.$//g\" | sort | uniq\n",
        "Cell.membrane\n",
        "Cytoplasm\n",
        "Cytoplasm-Nucleus\n",
        "Endoplasmic.reticulum\n",
        "Extracellular\n",
        "Golgi.apparatus\n",
        "Lysosome/Vacuole\n",
        "Mitochondrion\n",
        "Nucleus\n",
        "Peroxisome\n",
        "Plastid\n",
        "\n",
        "```\n",
        "\n",
        "\n",
        "\n",
        "\n",
        "\n",
        "\n",
        "\n",
        "##Task\n",
        "\n",
        "Your task is to train machine learning that clasifies these proteins into those 11 subcellular localization groups (as we did in the worksheets, except for amino acid sequences this time). You can use amino acids or k-mers of amino acids as words (choose k yourself). Train **any two ML methods amongst these** (any 2 that you prefer) so you can compare them:\n",
        "\n",
        "- Any two of the ML methods we saw in the class. Train the model to clasify the proteins into the 11 groups. Evaluate the classification result with Accuracy/Precision/Recall, as we have seen in the class and worksheets. See [sklearn.metrics](https://scikit-learn.org/stable/modules/model_evaluation.html#classification-metrics). \n",
        "\n",
        "- A simple k-means (unsupervised clustering, the same method used in vector quantization) to cluster into 11 groups. Evaluate result by assigning the majority class to each cluster, then counting how many members of each cluster belong to classes other than the assigned one.\n",
        "\n",
        "- Use the ProtBERT that is given [here](https://github.com/aws-samples/amazon-sagemaker-protein-classification). Evaluate result with Accuracy/Precision/Recall, as we have seen in the class and worksheets. This is sample code for BERT that does the assigned task, though you may google as well to find code.\n",
        "\n",
        "- You may also use ML methods we didn't cover in detail in class, such as SVMs or decision trees or random forests. \n",
        "\n",
        "##Answer this question\n",
        "\n",
        "Which of the 2 methods you compared gave a better result for separating proteins into the 11 subcellular localization classes? Explain in your answer why one method gave better results than another. If the metrics (Accuracy/Precision/Recall) are inconclusive as to which method performed better overall - for example if one method has better precision but another has better recall - explain this in your answer."
      ]
    },
    {
      "cell_type": "markdown",
      "metadata": {
        "id": "jdvpAafcAw5m"
      },
      "source": [
        "#Upload & install data"
      ]
    },
    {
      "cell_type": "code",
      "metadata": {
        "colab": {
          "resources": {
            "http://localhost:8080/nbextensions/google.colab/files.js": {
              "data": "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",
              "ok": true,
              "headers": [
                [
                  "content-type",
                  "application/javascript"
                ]
              ],
              "status": 200,
              "status_text": ""
            }
          },
          "base_uri": "https://localhost:8080/",
          "height": 86
        },
        "id": "eOQJh600lmcA",
        "outputId": "7335265d-3fec-4a3d-d4cf-85cd466c052a"
      },
      "source": [
        "from google.colab import files\n",
        "\n",
        "uploaded = files.upload()\n",
        "\n",
        "for fn in uploaded.keys():\n",
        "  print('User uploaded file \"{name}\" with length {length} bytes'.format(\n",
        "      name=fn, length=len(uploaded[fn])))"
      ],
      "execution_count": null,
      "outputs": [
        {
          "output_type": "display_data",
          "data": {
            "text/html": [
              "\n",
              "     <input type=\"file\" id=\"files-a083b957-bc19-4fc1-840a-e4fb67699747\" name=\"files[]\" multiple disabled\n",
              "        style=\"border:none\" />\n",
              "     <output id=\"result-a083b957-bc19-4fc1-840a-e4fb67699747\">\n",
              "      Upload widget is only available when the cell has been executed in the\n",
              "      current browser session. Please rerun this cell to enable.\n",
              "      </output>\n",
              "      <script src=\"/nbextensions/google.colab/files.js\"></script> "
            ],
            "text/plain": [
              "<IPython.core.display.HTML object>"
            ]
          },
          "metadata": {
            "tags": []
          }
        },
        {
          "output_type": "stream",
          "text": [
            "Saving deeploc_data.fasta to deeploc_data.fasta\n",
            "User uploaded file \"deeploc_data.fasta\" with length 7650134 bytes\n"
          ],
          "name": "stdout"
        }
      ]
    },
    {
      "cell_type": "code",
      "metadata": {
        "colab": {
          "base_uri": "https://localhost:8080/"
        },
        "id": "83giTnQTlnDx",
        "outputId": "5dcf207c-ab45-454e-ca26-6aa63ec3d10f"
      },
      "source": [
        "# install biopython for Google Colab\n",
        "try:\n",
        "    import google.colab\n",
        "    !pip install biopython\n",
        "except ImportError:\n",
        "    pass"
      ],
      "execution_count": null,
      "outputs": [
        {
          "output_type": "stream",
          "text": [
            "Collecting biopython\n",
            "\u001b[?25l  Downloading https://files.pythonhosted.org/packages/3a/cd/0098eaff841850c01da928c7f509b72fd3e1f51d77b772e24de9e2312471/biopython-1.78-cp37-cp37m-manylinux1_x86_64.whl (2.3MB)\n",
            "\u001b[K     |████████████████████████████████| 2.3MB 3.0MB/s \n",
            "\u001b[?25hRequirement already satisfied: numpy in /usr/local/lib/python3.7/dist-packages (from biopython) (1.19.5)\n",
            "Installing collected packages: biopython\n",
            "Successfully installed biopython-1.78\n"
          ],
          "name": "stdout"
        }
      ]
    },
    {
      "cell_type": "markdown",
      "metadata": {
        "id": "eggvHEsleWQ3"
      },
      "source": [
        "#Preprocessing, standardization, encoding, and SVM and decision tree model metrics and results"
      ]
    },
    {
      "cell_type": "code",
      "metadata": {
        "id": "VbmAdzLClm0_"
      },
      "source": [
        "# import libraries\n",
        "import pandas as pd\n",
        "import seaborn as sns\n",
        "import numpy as np\n",
        "from sklearn.model_selection import train_test_split\n",
        "from sklearn.model_selection import StratifiedShuffleSplit\n",
        "%matplotlib inline \n",
        "import matplotlib.pyplot as plt\n",
        "from sklearn.impute import SimpleImputer \n",
        "from sklearn.preprocessing import OrdinalEncoder\n",
        "from sklearn.preprocessing import OneHotEncoder\n",
        "from sklearn.pipeline import Pipeline\n",
        "from sklearn.preprocessing import StandardScaler\n",
        "from sklearn.compose import ColumnTransformer\n",
        "from sklearn.cluster import KMeans\n",
        "from Bio.SeqUtils.ProtParam import ProteinAnalysis"
      ],
      "execution_count": null,
      "outputs": []
    },
    {
      "cell_type": "code",
      "metadata": {
        "colab": {
          "base_uri": "https://localhost:8080/",
          "height": 391
        },
        "id": "P5ds4jSglnRN",
        "outputId": "602c171b-bfd6-4bf2-9107-519ed4286fe6"
      },
      "source": [
        "# parse fasta file and extract description and sequences\n",
        "from Bio import SeqIO\n",
        "\n",
        "identifiers = []\n",
        "headers = []\n",
        "with open('deeploc_data.fasta') as fasta_file:  \n",
        "    # generator to append each header and sequence\n",
        "    for seq_record in SeqIO.parse(fasta_file, 'fasta'):\n",
        "        headers.append(seq_record.description)  \n",
        "        identifiers.append(str(seq_record.seq))\n",
        "\n",
        "s1 = pd.Series(identifiers, name='Sequence')\n",
        "\n",
        "s1_h = pd.Series(headers, name='Header')\n",
        "\n",
        "deeploc = pd.concat([s1, s1_h], axis=1)\n",
        "deeploc\n"
      ],
      "execution_count": null,
      "outputs": [
        {
          "output_type": "execute_result",
          "data": {
            "text/html": [
              "<div>\n",
              "<style scoped>\n",
              "    .dataframe tbody tr th:only-of-type {\n",
              "        vertical-align: middle;\n",
              "    }\n",
              "\n",
              "    .dataframe tbody tr th {\n",
              "        vertical-align: top;\n",
              "    }\n",
              "\n",
              "    .dataframe thead th {\n",
              "        text-align: right;\n",
              "    }\n",
              "</style>\n",
              "<table border=\"1\" class=\"dataframe\">\n",
              "  <thead>\n",
              "    <tr style=\"text-align: right;\">\n",
              "      <th></th>\n",
              "      <th>Sequence</th>\n",
              "      <th>Header</th>\n",
              "    </tr>\n",
              "  </thead>\n",
              "  <tbody>\n",
              "    <tr>\n",
              "      <th>0</th>\n",
              "      <td>MGLPVSWAPPALWVLGCCALLLSLWALCTACRRPEDAVAPRKRARR...</td>\n",
              "      <td>Q9H400 Cell.membrane-M test</td>\n",
              "    </tr>\n",
              "    <tr>\n",
              "      <th>1</th>\n",
              "      <td>MEVLEEPAPGPGGADAAERRGLRRLLLSGFQEELRALLVLAGPAFL...</td>\n",
              "      <td>Q5I0E9 Cell.membrane-M</td>\n",
              "    </tr>\n",
              "    <tr>\n",
              "      <th>2</th>\n",
              "      <td>MMKTLSSGNCTLNVPAKNSYRMVVLGASRVGKSSIVSRFLNGRFED...</td>\n",
              "      <td>P63033 Cell.membrane-M</td>\n",
              "    </tr>\n",
              "    <tr>\n",
              "      <th>3</th>\n",
              "      <td>MAKRTFSNLETFLIFLLVMMSAITVALLSLLFITSGTIENHKDLGG...</td>\n",
              "      <td>Q9NR71 Cell.membrane-M</td>\n",
              "    </tr>\n",
              "    <tr>\n",
              "      <th>4</th>\n",
              "      <td>MGNCQAGHNLHLCLAHHPPLVCATLILLLLGLSGLGLGSFLLTHRT...</td>\n",
              "      <td>Q86XT9 Cell.membrane-M</td>\n",
              "    </tr>\n",
              "    <tr>\n",
              "      <th>...</th>\n",
              "      <td>...</td>\n",
              "      <td>...</td>\n",
              "    </tr>\n",
              "    <tr>\n",
              "      <th>13999</th>\n",
              "      <td>MFPRVVRLNSRLVSFALLGLQIANGAITYQHPDDLPSNVNYDFIVA...</td>\n",
              "      <td>V5NC32 Extracellular-S</td>\n",
              "    </tr>\n",
              "    <tr>\n",
              "      <th>14000</th>\n",
              "      <td>SLLEFGMMILEETGKLAVPFYSSYGCYCGWGGKATPKDATDRCCFV...</td>\n",
              "      <td>P86368 Extracellular-S</td>\n",
              "    </tr>\n",
              "    <tr>\n",
              "      <th>14001</th>\n",
              "      <td>TKCYKTGDRIISEACPPGQDLCYMKTWCDVFCGTRGRVIELGCTAT...</td>\n",
              "      <td>P80156 Extracellular-S</td>\n",
              "    </tr>\n",
              "    <tr>\n",
              "      <th>14002</th>\n",
              "      <td>MHGLLLAAAGLLSLPLHVVAHPQPSTSLAGRGVDLDAYRMADRSSY...</td>\n",
              "      <td>Q8NIH1 Extracellular-S</td>\n",
              "    </tr>\n",
              "    <tr>\n",
              "      <th>14003</th>\n",
              "      <td>MGFITKAIPLALAAASVINGAEIMETRAGVQTLADKYIVVMNDGMT...</td>\n",
              "      <td>D4APA9 Extracellular-S</td>\n",
              "    </tr>\n",
              "  </tbody>\n",
              "</table>\n",
              "<p>14004 rows × 2 columns</p>\n",
              "</div>"
            ],
            "text/plain": [
              "                                                Sequence                       Header\n",
              "0      MGLPVSWAPPALWVLGCCALLLSLWALCTACRRPEDAVAPRKRARR...  Q9H400 Cell.membrane-M test\n",
              "1      MEVLEEPAPGPGGADAAERRGLRRLLLSGFQEELRALLVLAGPAFL...       Q5I0E9 Cell.membrane-M\n",
              "2      MMKTLSSGNCTLNVPAKNSYRMVVLGASRVGKSSIVSRFLNGRFED...       P63033 Cell.membrane-M\n",
              "3      MAKRTFSNLETFLIFLLVMMSAITVALLSLLFITSGTIENHKDLGG...       Q9NR71 Cell.membrane-M\n",
              "4      MGNCQAGHNLHLCLAHHPPLVCATLILLLLGLSGLGLGSFLLTHRT...       Q86XT9 Cell.membrane-M\n",
              "...                                                  ...                          ...\n",
              "13999  MFPRVVRLNSRLVSFALLGLQIANGAITYQHPDDLPSNVNYDFIVA...       V5NC32 Extracellular-S\n",
              "14000  SLLEFGMMILEETGKLAVPFYSSYGCYCGWGGKATPKDATDRCCFV...       P86368 Extracellular-S\n",
              "14001  TKCYKTGDRIISEACPPGQDLCYMKTWCDVFCGTRGRVIELGCTAT...       P80156 Extracellular-S\n",
              "14002  MHGLLLAAAGLLSLPLHVVAHPQPSTSLAGRGVDLDAYRMADRSSY...       Q8NIH1 Extracellular-S\n",
              "14003  MGFITKAIPLALAAASVINGAEIMETRAGVQTLADKYIVVMNDGMT...       D4APA9 Extracellular-S\n",
              "\n",
              "[14004 rows x 2 columns]"
            ]
          },
          "metadata": {
            "tags": []
          },
          "execution_count": 4
        }
      ]
    },
    {
      "cell_type": "code",
      "metadata": {
        "id": "5_RUbn0dlndu"
      },
      "source": [
        "# Select subcellular location of the header\n",
        "deeploc['Subcellular location'] = deeploc['Header'].str.split(' ').str[1]"
      ],
      "execution_count": null,
      "outputs": []
    },
    {
      "cell_type": "code",
      "metadata": {
        "colab": {
          "base_uri": "https://localhost:8080/"
        },
        "id": "wXzDYidYlnr4",
        "outputId": "e153cdad-ebf4-4874-809b-3f57cdcb622d"
      },
      "source": [
        "deeploc['Subcellular location'].unique()"
      ],
      "execution_count": null,
      "outputs": [
        {
          "output_type": "execute_result",
          "data": {
            "text/plain": [
              "array(['Cell.membrane-M', 'Cytoplasm-Nucleus-U', 'Cytoplasm-S',\n",
              "       'Endoplasmic.reticulum-M', 'Endoplasmic.reticulum-U',\n",
              "       'Endoplasmic.reticulum-S', 'Golgi.apparatus-M',\n",
              "       'Golgi.apparatus-U', 'Golgi.apparatus-S', 'Lysosome/Vacuole-M',\n",
              "       'Lysosome/Vacuole-U', 'Lysosome/Vacuole-S', 'Mitochondrion-U',\n",
              "       'Mitochondrion-M', 'Mitochondrion-S', 'Nucleus-U', 'Nucleus-M',\n",
              "       'Nucleus-S', 'Peroxisome-M', 'Peroxisome-U', 'Peroxisome-S',\n",
              "       'Plastid-U', 'Plastid-S', 'Plastid-M', 'Extracellular-S'],\n",
              "      dtype=object)"
            ]
          },
          "metadata": {
            "tags": []
          },
          "execution_count": 6
        }
      ]
    },
    {
      "cell_type": "code",
      "metadata": {
        "id": "9Nb8xriWltVc"
      },
      "source": [
        "# replacing - with _ in Cytoplasm Nucleus\n",
        "deeploc['Subcellular location'].replace({'Cytoplasm-Nucleus-U':'Cytoplasm_Nucleus-U'}, inplace=True)"
      ],
      "execution_count": null,
      "outputs": []
    },
    {
      "cell_type": "code",
      "metadata": {
        "colab": {
          "base_uri": "https://localhost:8080/"
        },
        "id": "aKRzsHStlth3",
        "outputId": "0c259a56-2c9f-47a3-b64f-4fa4b0573a8b"
      },
      "source": [
        "deeploc['Subcellular location'].unique()"
      ],
      "execution_count": null,
      "outputs": [
        {
          "output_type": "execute_result",
          "data": {
            "text/plain": [
              "array(['Cell.membrane-M', 'Cytoplasm_Nucleus-U', 'Cytoplasm-S',\n",
              "       'Endoplasmic.reticulum-M', 'Endoplasmic.reticulum-U',\n",
              "       'Endoplasmic.reticulum-S', 'Golgi.apparatus-M',\n",
              "       'Golgi.apparatus-U', 'Golgi.apparatus-S', 'Lysosome/Vacuole-M',\n",
              "       'Lysosome/Vacuole-U', 'Lysosome/Vacuole-S', 'Mitochondrion-U',\n",
              "       'Mitochondrion-M', 'Mitochondrion-S', 'Nucleus-U', 'Nucleus-M',\n",
              "       'Nucleus-S', 'Peroxisome-M', 'Peroxisome-U', 'Peroxisome-S',\n",
              "       'Plastid-U', 'Plastid-S', 'Plastid-M', 'Extracellular-S'],\n",
              "      dtype=object)"
            ]
          },
          "metadata": {
            "tags": []
          },
          "execution_count": 8
        }
      ]
    },
    {
      "cell_type": "code",
      "metadata": {
        "id": "w6ODMkf_ltwg"
      },
      "source": [
        "# Select the subcellular location and not the additional labels\n",
        "deeploc['Subcellular location'] = deeploc['Subcellular location'].str.split('-').str[0]"
      ],
      "execution_count": null,
      "outputs": []
    },
    {
      "cell_type": "code",
      "metadata": {
        "colab": {
          "base_uri": "https://localhost:8080/"
        },
        "id": "efZ5zTKBlt_P",
        "outputId": "db990a60-c3af-45b6-fdef-a0b450361428"
      },
      "source": [
        "print(deeploc['Subcellular location'].unique())\n",
        "print(deeploc['Subcellular location'].nunique())"
      ],
      "execution_count": null,
      "outputs": [
        {
          "output_type": "stream",
          "text": [
            "['Cell.membrane' 'Cytoplasm_Nucleus' 'Cytoplasm' 'Endoplasmic.reticulum'\n",
            " 'Golgi.apparatus' 'Lysosome/Vacuole' 'Mitochondrion' 'Nucleus'\n",
            " 'Peroxisome' 'Plastid' 'Extracellular']\n",
            "11\n"
          ],
          "name": "stdout"
        }
      ]
    },
    {
      "cell_type": "code",
      "metadata": {
        "colab": {
          "base_uri": "https://localhost:8080/",
          "height": 391
        },
        "id": "Eulao3sdyBq7",
        "outputId": "20e21fa0-9d61-4d73-99af-157e9bc9149b"
      },
      "source": [
        "deeploc"
      ],
      "execution_count": null,
      "outputs": [
        {
          "output_type": "execute_result",
          "data": {
            "text/html": [
              "<div>\n",
              "<style scoped>\n",
              "    .dataframe tbody tr th:only-of-type {\n",
              "        vertical-align: middle;\n",
              "    }\n",
              "\n",
              "    .dataframe tbody tr th {\n",
              "        vertical-align: top;\n",
              "    }\n",
              "\n",
              "    .dataframe thead th {\n",
              "        text-align: right;\n",
              "    }\n",
              "</style>\n",
              "<table border=\"1\" class=\"dataframe\">\n",
              "  <thead>\n",
              "    <tr style=\"text-align: right;\">\n",
              "      <th></th>\n",
              "      <th>Sequence</th>\n",
              "      <th>Header</th>\n",
              "      <th>Subcellular location</th>\n",
              "    </tr>\n",
              "  </thead>\n",
              "  <tbody>\n",
              "    <tr>\n",
              "      <th>0</th>\n",
              "      <td>MGLPVSWAPPALWVLGCCALLLSLWALCTACRRPEDAVAPRKRARR...</td>\n",
              "      <td>Q9H400 Cell.membrane-M test</td>\n",
              "      <td>Cell.membrane</td>\n",
              "    </tr>\n",
              "    <tr>\n",
              "      <th>1</th>\n",
              "      <td>MEVLEEPAPGPGGADAAERRGLRRLLLSGFQEELRALLVLAGPAFL...</td>\n",
              "      <td>Q5I0E9 Cell.membrane-M</td>\n",
              "      <td>Cell.membrane</td>\n",
              "    </tr>\n",
              "    <tr>\n",
              "      <th>2</th>\n",
              "      <td>MMKTLSSGNCTLNVPAKNSYRMVVLGASRVGKSSIVSRFLNGRFED...</td>\n",
              "      <td>P63033 Cell.membrane-M</td>\n",
              "      <td>Cell.membrane</td>\n",
              "    </tr>\n",
              "    <tr>\n",
              "      <th>3</th>\n",
              "      <td>MAKRTFSNLETFLIFLLVMMSAITVALLSLLFITSGTIENHKDLGG...</td>\n",
              "      <td>Q9NR71 Cell.membrane-M</td>\n",
              "      <td>Cell.membrane</td>\n",
              "    </tr>\n",
              "    <tr>\n",
              "      <th>4</th>\n",
              "      <td>MGNCQAGHNLHLCLAHHPPLVCATLILLLLGLSGLGLGSFLLTHRT...</td>\n",
              "      <td>Q86XT9 Cell.membrane-M</td>\n",
              "      <td>Cell.membrane</td>\n",
              "    </tr>\n",
              "    <tr>\n",
              "      <th>...</th>\n",
              "      <td>...</td>\n",
              "      <td>...</td>\n",
              "      <td>...</td>\n",
              "    </tr>\n",
              "    <tr>\n",
              "      <th>13999</th>\n",
              "      <td>MFPRVVRLNSRLVSFALLGLQIANGAITYQHPDDLPSNVNYDFIVA...</td>\n",
              "      <td>V5NC32 Extracellular-S</td>\n",
              "      <td>Extracellular</td>\n",
              "    </tr>\n",
              "    <tr>\n",
              "      <th>14000</th>\n",
              "      <td>SLLEFGMMILEETGKLAVPFYSSYGCYCGWGGKATPKDATDRCCFV...</td>\n",
              "      <td>P86368 Extracellular-S</td>\n",
              "      <td>Extracellular</td>\n",
              "    </tr>\n",
              "    <tr>\n",
              "      <th>14001</th>\n",
              "      <td>TKCYKTGDRIISEACPPGQDLCYMKTWCDVFCGTRGRVIELGCTAT...</td>\n",
              "      <td>P80156 Extracellular-S</td>\n",
              "      <td>Extracellular</td>\n",
              "    </tr>\n",
              "    <tr>\n",
              "      <th>14002</th>\n",
              "      <td>MHGLLLAAAGLLSLPLHVVAHPQPSTSLAGRGVDLDAYRMADRSSY...</td>\n",
              "      <td>Q8NIH1 Extracellular-S</td>\n",
              "      <td>Extracellular</td>\n",
              "    </tr>\n",
              "    <tr>\n",
              "      <th>14003</th>\n",
              "      <td>MGFITKAIPLALAAASVINGAEIMETRAGVQTLADKYIVVMNDGMT...</td>\n",
              "      <td>D4APA9 Extracellular-S</td>\n",
              "      <td>Extracellular</td>\n",
              "    </tr>\n",
              "  </tbody>\n",
              "</table>\n",
              "<p>14004 rows × 3 columns</p>\n",
              "</div>"
            ],
            "text/plain": [
              "                                                Sequence  ... Subcellular location\n",
              "0      MGLPVSWAPPALWVLGCCALLLSLWALCTACRRPEDAVAPRKRARR...  ...        Cell.membrane\n",
              "1      MEVLEEPAPGPGGADAAERRGLRRLLLSGFQEELRALLVLAGPAFL...  ...        Cell.membrane\n",
              "2      MMKTLSSGNCTLNVPAKNSYRMVVLGASRVGKSSIVSRFLNGRFED...  ...        Cell.membrane\n",
              "3      MAKRTFSNLETFLIFLLVMMSAITVALLSLLFITSGTIENHKDLGG...  ...        Cell.membrane\n",
              "4      MGNCQAGHNLHLCLAHHPPLVCATLILLLLGLSGLGLGSFLLTHRT...  ...        Cell.membrane\n",
              "...                                                  ...  ...                  ...\n",
              "13999  MFPRVVRLNSRLVSFALLGLQIANGAITYQHPDDLPSNVNYDFIVA...  ...        Extracellular\n",
              "14000  SLLEFGMMILEETGKLAVPFYSSYGCYCGWGGKATPKDATDRCCFV...  ...        Extracellular\n",
              "14001  TKCYKTGDRIISEACPPGQDLCYMKTWCDVFCGTRGRVIELGCTAT...  ...        Extracellular\n",
              "14002  MHGLLLAAAGLLSLPLHVVAHPQPSTSLAGRGVDLDAYRMADRSSY...  ...        Extracellular\n",
              "14003  MGFITKAIPLALAAASVINGAEIMETRAGVQTLADKYIVVMNDGMT...  ...        Extracellular\n",
              "\n",
              "[14004 rows x 3 columns]"
            ]
          },
          "metadata": {
            "tags": []
          },
          "execution_count": 11
        }
      ]
    },
    {
      "cell_type": "code",
      "metadata": {
        "id": "44bjA55JfVji"
      },
      "source": [
        "deeploc.drop('Header', axis=1, inplace=True)"
      ],
      "execution_count": null,
      "outputs": []
    },
    {
      "cell_type": "code",
      "metadata": {
        "colab": {
          "base_uri": "https://localhost:8080/",
          "height": 391
        },
        "id": "s8WkD9Uv_vls",
        "outputId": "3c17e39b-bfc5-45ea-a50b-476fbea4938e"
      },
      "source": [
        "deeploc"
      ],
      "execution_count": null,
      "outputs": [
        {
          "output_type": "execute_result",
          "data": {
            "text/html": [
              "<div>\n",
              "<style scoped>\n",
              "    .dataframe tbody tr th:only-of-type {\n",
              "        vertical-align: middle;\n",
              "    }\n",
              "\n",
              "    .dataframe tbody tr th {\n",
              "        vertical-align: top;\n",
              "    }\n",
              "\n",
              "    .dataframe thead th {\n",
              "        text-align: right;\n",
              "    }\n",
              "</style>\n",
              "<table border=\"1\" class=\"dataframe\">\n",
              "  <thead>\n",
              "    <tr style=\"text-align: right;\">\n",
              "      <th></th>\n",
              "      <th>Sequence</th>\n",
              "      <th>Subcellular location</th>\n",
              "    </tr>\n",
              "  </thead>\n",
              "  <tbody>\n",
              "    <tr>\n",
              "      <th>0</th>\n",
              "      <td>MGLPVSWAPPALWVLGCCALLLSLWALCTACRRPEDAVAPRKRARR...</td>\n",
              "      <td>Cell.membrane</td>\n",
              "    </tr>\n",
              "    <tr>\n",
              "      <th>1</th>\n",
              "      <td>MEVLEEPAPGPGGADAAERRGLRRLLLSGFQEELRALLVLAGPAFL...</td>\n",
              "      <td>Cell.membrane</td>\n",
              "    </tr>\n",
              "    <tr>\n",
              "      <th>2</th>\n",
              "      <td>MMKTLSSGNCTLNVPAKNSYRMVVLGASRVGKSSIVSRFLNGRFED...</td>\n",
              "      <td>Cell.membrane</td>\n",
              "    </tr>\n",
              "    <tr>\n",
              "      <th>3</th>\n",
              "      <td>MAKRTFSNLETFLIFLLVMMSAITVALLSLLFITSGTIENHKDLGG...</td>\n",
              "      <td>Cell.membrane</td>\n",
              "    </tr>\n",
              "    <tr>\n",
              "      <th>4</th>\n",
              "      <td>MGNCQAGHNLHLCLAHHPPLVCATLILLLLGLSGLGLGSFLLTHRT...</td>\n",
              "      <td>Cell.membrane</td>\n",
              "    </tr>\n",
              "    <tr>\n",
              "      <th>...</th>\n",
              "      <td>...</td>\n",
              "      <td>...</td>\n",
              "    </tr>\n",
              "    <tr>\n",
              "      <th>13999</th>\n",
              "      <td>MFPRVVRLNSRLVSFALLGLQIANGAITYQHPDDLPSNVNYDFIVA...</td>\n",
              "      <td>Extracellular</td>\n",
              "    </tr>\n",
              "    <tr>\n",
              "      <th>14000</th>\n",
              "      <td>SLLEFGMMILEETGKLAVPFYSSYGCYCGWGGKATPKDATDRCCFV...</td>\n",
              "      <td>Extracellular</td>\n",
              "    </tr>\n",
              "    <tr>\n",
              "      <th>14001</th>\n",
              "      <td>TKCYKTGDRIISEACPPGQDLCYMKTWCDVFCGTRGRVIELGCTAT...</td>\n",
              "      <td>Extracellular</td>\n",
              "    </tr>\n",
              "    <tr>\n",
              "      <th>14002</th>\n",
              "      <td>MHGLLLAAAGLLSLPLHVVAHPQPSTSLAGRGVDLDAYRMADRSSY...</td>\n",
              "      <td>Extracellular</td>\n",
              "    </tr>\n",
              "    <tr>\n",
              "      <th>14003</th>\n",
              "      <td>MGFITKAIPLALAAASVINGAEIMETRAGVQTLADKYIVVMNDGMT...</td>\n",
              "      <td>Extracellular</td>\n",
              "    </tr>\n",
              "  </tbody>\n",
              "</table>\n",
              "<p>14004 rows × 2 columns</p>\n",
              "</div>"
            ],
            "text/plain": [
              "                                                Sequence Subcellular location\n",
              "0      MGLPVSWAPPALWVLGCCALLLSLWALCTACRRPEDAVAPRKRARR...        Cell.membrane\n",
              "1      MEVLEEPAPGPGGADAAERRGLRRLLLSGFQEELRALLVLAGPAFL...        Cell.membrane\n",
              "2      MMKTLSSGNCTLNVPAKNSYRMVVLGASRVGKSSIVSRFLNGRFED...        Cell.membrane\n",
              "3      MAKRTFSNLETFLIFLLVMMSAITVALLSLLFITSGTIENHKDLGG...        Cell.membrane\n",
              "4      MGNCQAGHNLHLCLAHHPPLVCATLILLLLGLSGLGLGSFLLTHRT...        Cell.membrane\n",
              "...                                                  ...                  ...\n",
              "13999  MFPRVVRLNSRLVSFALLGLQIANGAITYQHPDDLPSNVNYDFIVA...        Extracellular\n",
              "14000  SLLEFGMMILEETGKLAVPFYSSYGCYCGWGGKATPKDATDRCCFV...        Extracellular\n",
              "14001  TKCYKTGDRIISEACPPGQDLCYMKTWCDVFCGTRGRVIELGCTAT...        Extracellular\n",
              "14002  MHGLLLAAAGLLSLPLHVVAHPQPSTSLAGRGVDLDAYRMADRSSY...        Extracellular\n",
              "14003  MGFITKAIPLALAAASVINGAEIMETRAGVQTLADKYIVVMNDGMT...        Extracellular\n",
              "\n",
              "[14004 rows x 2 columns]"
            ]
          },
          "metadata": {
            "tags": []
          },
          "execution_count": 13
        }
      ]
    },
    {
      "cell_type": "code",
      "metadata": {
        "id": "z6PHAQcCNgie"
      },
      "source": [
        "# deeploc=deeploc.replace(to_replace='Cell.membrane',value=\"1\")\n",
        "# deeploc=deeploc.replace(to_replace='Cytoplasm_Nucleus',value=\"2\")\n",
        "# deeploc=deeploc.replace(to_replace='Cytoplasm',value=\"3\")\n",
        "# deeploc=deeploc.replace(to_replace='Endoplasmic.reticulum',value=\"4\")\n",
        "# deeploc=deeploc.replace(to_replace='Golgi.apparatus',value=\"5\")\n",
        "# deeploc=deeploc.replace(to_replace='Lysosome/Vacuole',value=\"6\")\n",
        "# deeploc=deeploc.replace(to_replace='Mitochondrion',value=\"7\")\n",
        "# deeploc=deeploc.replace(to_replace='Nucleus',value=\"8\")\n",
        "# deeploc=deeploc.replace(to_replace='Peroxisome',value=\"9\")\n",
        "# deeploc=deeploc.replace(to_replace='Plastid',value=\"10\")\n",
        "# deeploc=deeploc.replace(to_replace='Extracellular',value=\"11\")"
      ],
      "execution_count": null,
      "outputs": []
    },
    {
      "cell_type": "code",
      "metadata": {
        "id": "qF02UvUAooyO"
      },
      "source": [
        "deeploc_train_set, deeploc_test_set = train_test_split(deeploc, \n",
        "                                                       test_size = 0.25, \n",
        "                                                       random_state = 7)"
      ],
      "execution_count": null,
      "outputs": []
    },
    {
      "cell_type": "code",
      "metadata": {
        "id": "zuelejdxqWa4"
      },
      "source": [
        "deeploc_train_labels = deeploc_train_set['Subcellular location'].copy()\n",
        "deeploc_test_labels = deeploc_test_set['Subcellular location'].copy()"
      ],
      "execution_count": null,
      "outputs": []
    },
    {
      "cell_type": "code",
      "metadata": {
        "colab": {
          "base_uri": "https://localhost:8080/"
        },
        "id": "ngZsokGkwBvl",
        "outputId": "587e5f98-c99c-4418-daab-a226e8e32913"
      },
      "source": [
        "deeploc_train_labels"
      ],
      "execution_count": null,
      "outputs": [
        {
          "output_type": "execute_result",
          "data": {
            "text/plain": [
              "13056    Extracellular\n",
              "797      Cell.membrane\n",
              "11672          Plastid\n",
              "8650           Nucleus\n",
              "5916     Mitochondrion\n",
              "             ...      \n",
              "5699     Mitochondrion\n",
              "10742          Nucleus\n",
              "537      Cell.membrane\n",
              "9412           Nucleus\n",
              "12463    Extracellular\n",
              "Name: Subcellular location, Length: 10503, dtype: object"
            ]
          },
          "metadata": {
            "tags": []
          },
          "execution_count": 17
        }
      ]
    },
    {
      "cell_type": "code",
      "metadata": {
        "colab": {
          "base_uri": "https://localhost:8080/"
        },
        "id": "SutICxJjJQ6X",
        "outputId": "cbe7f414-e075-4b21-d142-19dafdd06ba0"
      },
      "source": [
        "deeploc_test_labels"
      ],
      "execution_count": null,
      "outputs": [
        {
          "output_type": "execute_result",
          "data": {
            "text/plain": [
              "8511             Nucleus\n",
              "8842             Nucleus\n",
              "4896     Golgi.apparatus\n",
              "11480            Plastid\n",
              "12012            Plastid\n",
              "              ...       \n",
              "390        Cell.membrane\n",
              "13837      Extracellular\n",
              "8795             Nucleus\n",
              "13841      Extracellular\n",
              "7044       Mitochondrion\n",
              "Name: Subcellular location, Length: 3501, dtype: object"
            ]
          },
          "metadata": {
            "tags": []
          },
          "execution_count": 18
        }
      ]
    },
    {
      "cell_type": "code",
      "metadata": {
        "colab": {
          "base_uri": "https://localhost:8080/",
          "height": 391
        },
        "id": "cdQs1OvkqeuO",
        "outputId": "970e2cf6-1516-4664-ca83-3cde7929adda"
      },
      "source": [
        "#create counts for every amino acid for the training set\n",
        "deeploc_train_set = pd.DataFrame([ProteinAnalysis(i).count_amino_acids() for i in deeploc_train_set['Sequence']])\n",
        "deeploc_train_set\n"
      ],
      "execution_count": null,
      "outputs": [
        {
          "output_type": "execute_result",
          "data": {
            "text/html": [
              "<div>\n",
              "<style scoped>\n",
              "    .dataframe tbody tr th:only-of-type {\n",
              "        vertical-align: middle;\n",
              "    }\n",
              "\n",
              "    .dataframe tbody tr th {\n",
              "        vertical-align: top;\n",
              "    }\n",
              "\n",
              "    .dataframe thead th {\n",
              "        text-align: right;\n",
              "    }\n",
              "</style>\n",
              "<table border=\"1\" class=\"dataframe\">\n",
              "  <thead>\n",
              "    <tr style=\"text-align: right;\">\n",
              "      <th></th>\n",
              "      <th>A</th>\n",
              "      <th>C</th>\n",
              "      <th>D</th>\n",
              "      <th>E</th>\n",
              "      <th>F</th>\n",
              "      <th>G</th>\n",
              "      <th>H</th>\n",
              "      <th>I</th>\n",
              "      <th>K</th>\n",
              "      <th>L</th>\n",
              "      <th>M</th>\n",
              "      <th>N</th>\n",
              "      <th>P</th>\n",
              "      <th>Q</th>\n",
              "      <th>R</th>\n",
              "      <th>S</th>\n",
              "      <th>T</th>\n",
              "      <th>V</th>\n",
              "      <th>W</th>\n",
              "      <th>Y</th>\n",
              "    </tr>\n",
              "  </thead>\n",
              "  <tbody>\n",
              "    <tr>\n",
              "      <th>0</th>\n",
              "      <td>40</td>\n",
              "      <td>6</td>\n",
              "      <td>33</td>\n",
              "      <td>29</td>\n",
              "      <td>28</td>\n",
              "      <td>29</td>\n",
              "      <td>17</td>\n",
              "      <td>33</td>\n",
              "      <td>32</td>\n",
              "      <td>60</td>\n",
              "      <td>8</td>\n",
              "      <td>30</td>\n",
              "      <td>30</td>\n",
              "      <td>18</td>\n",
              "      <td>16</td>\n",
              "      <td>45</td>\n",
              "      <td>31</td>\n",
              "      <td>47</td>\n",
              "      <td>4</td>\n",
              "      <td>15</td>\n",
              "    </tr>\n",
              "    <tr>\n",
              "      <th>1</th>\n",
              "      <td>59</td>\n",
              "      <td>5</td>\n",
              "      <td>22</td>\n",
              "      <td>23</td>\n",
              "      <td>35</td>\n",
              "      <td>53</td>\n",
              "      <td>11</td>\n",
              "      <td>41</td>\n",
              "      <td>22</td>\n",
              "      <td>63</td>\n",
              "      <td>26</td>\n",
              "      <td>34</td>\n",
              "      <td>39</td>\n",
              "      <td>20</td>\n",
              "      <td>26</td>\n",
              "      <td>60</td>\n",
              "      <td>34</td>\n",
              "      <td>40</td>\n",
              "      <td>10</td>\n",
              "      <td>17</td>\n",
              "    </tr>\n",
              "    <tr>\n",
              "      <th>2</th>\n",
              "      <td>25</td>\n",
              "      <td>1</td>\n",
              "      <td>6</td>\n",
              "      <td>9</td>\n",
              "      <td>7</td>\n",
              "      <td>18</td>\n",
              "      <td>2</td>\n",
              "      <td>6</td>\n",
              "      <td>11</td>\n",
              "      <td>12</td>\n",
              "      <td>4</td>\n",
              "      <td>7</td>\n",
              "      <td>9</td>\n",
              "      <td>1</td>\n",
              "      <td>1</td>\n",
              "      <td>14</td>\n",
              "      <td>13</td>\n",
              "      <td>19</td>\n",
              "      <td>0</td>\n",
              "      <td>3</td>\n",
              "    </tr>\n",
              "    <tr>\n",
              "      <th>3</th>\n",
              "      <td>37</td>\n",
              "      <td>3</td>\n",
              "      <td>24</td>\n",
              "      <td>44</td>\n",
              "      <td>17</td>\n",
              "      <td>28</td>\n",
              "      <td>5</td>\n",
              "      <td>16</td>\n",
              "      <td>19</td>\n",
              "      <td>42</td>\n",
              "      <td>14</td>\n",
              "      <td>18</td>\n",
              "      <td>29</td>\n",
              "      <td>26</td>\n",
              "      <td>22</td>\n",
              "      <td>52</td>\n",
              "      <td>30</td>\n",
              "      <td>23</td>\n",
              "      <td>9</td>\n",
              "      <td>10</td>\n",
              "    </tr>\n",
              "    <tr>\n",
              "      <th>4</th>\n",
              "      <td>10</td>\n",
              "      <td>0</td>\n",
              "      <td>8</td>\n",
              "      <td>17</td>\n",
              "      <td>3</td>\n",
              "      <td>14</td>\n",
              "      <td>3</td>\n",
              "      <td>6</td>\n",
              "      <td>9</td>\n",
              "      <td>16</td>\n",
              "      <td>5</td>\n",
              "      <td>9</td>\n",
              "      <td>7</td>\n",
              "      <td>8</td>\n",
              "      <td>5</td>\n",
              "      <td>12</td>\n",
              "      <td>14</td>\n",
              "      <td>15</td>\n",
              "      <td>3</td>\n",
              "      <td>6</td>\n",
              "    </tr>\n",
              "    <tr>\n",
              "      <th>...</th>\n",
              "      <td>...</td>\n",
              "      <td>...</td>\n",
              "      <td>...</td>\n",
              "      <td>...</td>\n",
              "      <td>...</td>\n",
              "      <td>...</td>\n",
              "      <td>...</td>\n",
              "      <td>...</td>\n",
              "      <td>...</td>\n",
              "      <td>...</td>\n",
              "      <td>...</td>\n",
              "      <td>...</td>\n",
              "      <td>...</td>\n",
              "      <td>...</td>\n",
              "      <td>...</td>\n",
              "      <td>...</td>\n",
              "      <td>...</td>\n",
              "      <td>...</td>\n",
              "      <td>...</td>\n",
              "      <td>...</td>\n",
              "    </tr>\n",
              "    <tr>\n",
              "      <th>10498</th>\n",
              "      <td>21</td>\n",
              "      <td>5</td>\n",
              "      <td>12</td>\n",
              "      <td>27</td>\n",
              "      <td>14</td>\n",
              "      <td>18</td>\n",
              "      <td>10</td>\n",
              "      <td>18</td>\n",
              "      <td>20</td>\n",
              "      <td>46</td>\n",
              "      <td>9</td>\n",
              "      <td>9</td>\n",
              "      <td>14</td>\n",
              "      <td>18</td>\n",
              "      <td>27</td>\n",
              "      <td>24</td>\n",
              "      <td>22</td>\n",
              "      <td>15</td>\n",
              "      <td>6</td>\n",
              "      <td>10</td>\n",
              "    </tr>\n",
              "    <tr>\n",
              "      <th>10499</th>\n",
              "      <td>11</td>\n",
              "      <td>2</td>\n",
              "      <td>23</td>\n",
              "      <td>26</td>\n",
              "      <td>4</td>\n",
              "      <td>8</td>\n",
              "      <td>5</td>\n",
              "      <td>15</td>\n",
              "      <td>22</td>\n",
              "      <td>33</td>\n",
              "      <td>7</td>\n",
              "      <td>9</td>\n",
              "      <td>8</td>\n",
              "      <td>12</td>\n",
              "      <td>14</td>\n",
              "      <td>23</td>\n",
              "      <td>13</td>\n",
              "      <td>12</td>\n",
              "      <td>3</td>\n",
              "      <td>11</td>\n",
              "    </tr>\n",
              "    <tr>\n",
              "      <th>10500</th>\n",
              "      <td>12</td>\n",
              "      <td>1</td>\n",
              "      <td>6</td>\n",
              "      <td>10</td>\n",
              "      <td>8</td>\n",
              "      <td>6</td>\n",
              "      <td>3</td>\n",
              "      <td>5</td>\n",
              "      <td>6</td>\n",
              "      <td>18</td>\n",
              "      <td>4</td>\n",
              "      <td>4</td>\n",
              "      <td>6</td>\n",
              "      <td>6</td>\n",
              "      <td>6</td>\n",
              "      <td>12</td>\n",
              "      <td>5</td>\n",
              "      <td>6</td>\n",
              "      <td>2</td>\n",
              "      <td>4</td>\n",
              "    </tr>\n",
              "    <tr>\n",
              "      <th>10501</th>\n",
              "      <td>15</td>\n",
              "      <td>4</td>\n",
              "      <td>17</td>\n",
              "      <td>26</td>\n",
              "      <td>13</td>\n",
              "      <td>18</td>\n",
              "      <td>4</td>\n",
              "      <td>25</td>\n",
              "      <td>19</td>\n",
              "      <td>29</td>\n",
              "      <td>9</td>\n",
              "      <td>15</td>\n",
              "      <td>21</td>\n",
              "      <td>13</td>\n",
              "      <td>18</td>\n",
              "      <td>30</td>\n",
              "      <td>17</td>\n",
              "      <td>24</td>\n",
              "      <td>7</td>\n",
              "      <td>11</td>\n",
              "    </tr>\n",
              "    <tr>\n",
              "      <th>10502</th>\n",
              "      <td>33</td>\n",
              "      <td>7</td>\n",
              "      <td>26</td>\n",
              "      <td>37</td>\n",
              "      <td>37</td>\n",
              "      <td>41</td>\n",
              "      <td>5</td>\n",
              "      <td>24</td>\n",
              "      <td>31</td>\n",
              "      <td>54</td>\n",
              "      <td>14</td>\n",
              "      <td>38</td>\n",
              "      <td>31</td>\n",
              "      <td>22</td>\n",
              "      <td>32</td>\n",
              "      <td>36</td>\n",
              "      <td>36</td>\n",
              "      <td>32</td>\n",
              "      <td>16</td>\n",
              "      <td>22</td>\n",
              "    </tr>\n",
              "  </tbody>\n",
              "</table>\n",
              "<p>10503 rows × 20 columns</p>\n",
              "</div>"
            ],
            "text/plain": [
              "        A  C   D   E   F   G   H   I   K  ...   N   P   Q   R   S   T   V   W   Y\n",
              "0      40  6  33  29  28  29  17  33  32  ...  30  30  18  16  45  31  47   4  15\n",
              "1      59  5  22  23  35  53  11  41  22  ...  34  39  20  26  60  34  40  10  17\n",
              "2      25  1   6   9   7  18   2   6  11  ...   7   9   1   1  14  13  19   0   3\n",
              "3      37  3  24  44  17  28   5  16  19  ...  18  29  26  22  52  30  23   9  10\n",
              "4      10  0   8  17   3  14   3   6   9  ...   9   7   8   5  12  14  15   3   6\n",
              "...    .. ..  ..  ..  ..  ..  ..  ..  ..  ...  ..  ..  ..  ..  ..  ..  ..  ..  ..\n",
              "10498  21  5  12  27  14  18  10  18  20  ...   9  14  18  27  24  22  15   6  10\n",
              "10499  11  2  23  26   4   8   5  15  22  ...   9   8  12  14  23  13  12   3  11\n",
              "10500  12  1   6  10   8   6   3   5   6  ...   4   6   6   6  12   5   6   2   4\n",
              "10501  15  4  17  26  13  18   4  25  19  ...  15  21  13  18  30  17  24   7  11\n",
              "10502  33  7  26  37  37  41   5  24  31  ...  38  31  22  32  36  36  32  16  22\n",
              "\n",
              "[10503 rows x 20 columns]"
            ]
          },
          "metadata": {
            "tags": []
          },
          "execution_count": 19
        }
      ]
    },
    {
      "cell_type": "code",
      "metadata": {
        "colab": {
          "base_uri": "https://localhost:8080/",
          "height": 391
        },
        "id": "FBFlqX3lyY-U",
        "outputId": "371bdf58-d219-46ec-8c49-2a7c1c873bd5"
      },
      "source": [
        "#create counts for every amino acid for the test set\n",
        "deeploc_test_set = pd.DataFrame([ProteinAnalysis(i).count_amino_acids() for i in deeploc_test_set['Sequence']])\n",
        "deeploc_test_set"
      ],
      "execution_count": null,
      "outputs": [
        {
          "output_type": "execute_result",
          "data": {
            "text/html": [
              "<div>\n",
              "<style scoped>\n",
              "    .dataframe tbody tr th:only-of-type {\n",
              "        vertical-align: middle;\n",
              "    }\n",
              "\n",
              "    .dataframe tbody tr th {\n",
              "        vertical-align: top;\n",
              "    }\n",
              "\n",
              "    .dataframe thead th {\n",
              "        text-align: right;\n",
              "    }\n",
              "</style>\n",
              "<table border=\"1\" class=\"dataframe\">\n",
              "  <thead>\n",
              "    <tr style=\"text-align: right;\">\n",
              "      <th></th>\n",
              "      <th>A</th>\n",
              "      <th>C</th>\n",
              "      <th>D</th>\n",
              "      <th>E</th>\n",
              "      <th>F</th>\n",
              "      <th>G</th>\n",
              "      <th>H</th>\n",
              "      <th>I</th>\n",
              "      <th>K</th>\n",
              "      <th>L</th>\n",
              "      <th>M</th>\n",
              "      <th>N</th>\n",
              "      <th>P</th>\n",
              "      <th>Q</th>\n",
              "      <th>R</th>\n",
              "      <th>S</th>\n",
              "      <th>T</th>\n",
              "      <th>V</th>\n",
              "      <th>W</th>\n",
              "      <th>Y</th>\n",
              "    </tr>\n",
              "  </thead>\n",
              "  <tbody>\n",
              "    <tr>\n",
              "      <th>0</th>\n",
              "      <td>116</td>\n",
              "      <td>5</td>\n",
              "      <td>26</td>\n",
              "      <td>46</td>\n",
              "      <td>14</td>\n",
              "      <td>65</td>\n",
              "      <td>20</td>\n",
              "      <td>64</td>\n",
              "      <td>65</td>\n",
              "      <td>104</td>\n",
              "      <td>24</td>\n",
              "      <td>62</td>\n",
              "      <td>97</td>\n",
              "      <td>183</td>\n",
              "      <td>47</td>\n",
              "      <td>111</td>\n",
              "      <td>127</td>\n",
              "      <td>61</td>\n",
              "      <td>5</td>\n",
              "      <td>9</td>\n",
              "    </tr>\n",
              "    <tr>\n",
              "      <th>1</th>\n",
              "      <td>31</td>\n",
              "      <td>3</td>\n",
              "      <td>11</td>\n",
              "      <td>10</td>\n",
              "      <td>8</td>\n",
              "      <td>16</td>\n",
              "      <td>2</td>\n",
              "      <td>4</td>\n",
              "      <td>13</td>\n",
              "      <td>23</td>\n",
              "      <td>7</td>\n",
              "      <td>6</td>\n",
              "      <td>37</td>\n",
              "      <td>21</td>\n",
              "      <td>15</td>\n",
              "      <td>41</td>\n",
              "      <td>18</td>\n",
              "      <td>14</td>\n",
              "      <td>4</td>\n",
              "      <td>15</td>\n",
              "    </tr>\n",
              "    <tr>\n",
              "      <th>2</th>\n",
              "      <td>15</td>\n",
              "      <td>10</td>\n",
              "      <td>14</td>\n",
              "      <td>20</td>\n",
              "      <td>20</td>\n",
              "      <td>22</td>\n",
              "      <td>17</td>\n",
              "      <td>26</td>\n",
              "      <td>21</td>\n",
              "      <td>46</td>\n",
              "      <td>18</td>\n",
              "      <td>16</td>\n",
              "      <td>26</td>\n",
              "      <td>14</td>\n",
              "      <td>19</td>\n",
              "      <td>23</td>\n",
              "      <td>22</td>\n",
              "      <td>31</td>\n",
              "      <td>17</td>\n",
              "      <td>22</td>\n",
              "    </tr>\n",
              "    <tr>\n",
              "      <th>3</th>\n",
              "      <td>28</td>\n",
              "      <td>3</td>\n",
              "      <td>16</td>\n",
              "      <td>17</td>\n",
              "      <td>9</td>\n",
              "      <td>16</td>\n",
              "      <td>5</td>\n",
              "      <td>20</td>\n",
              "      <td>17</td>\n",
              "      <td>30</td>\n",
              "      <td>15</td>\n",
              "      <td>14</td>\n",
              "      <td>31</td>\n",
              "      <td>9</td>\n",
              "      <td>19</td>\n",
              "      <td>31</td>\n",
              "      <td>13</td>\n",
              "      <td>25</td>\n",
              "      <td>2</td>\n",
              "      <td>10</td>\n",
              "    </tr>\n",
              "    <tr>\n",
              "      <th>4</th>\n",
              "      <td>31</td>\n",
              "      <td>9</td>\n",
              "      <td>22</td>\n",
              "      <td>28</td>\n",
              "      <td>23</td>\n",
              "      <td>31</td>\n",
              "      <td>16</td>\n",
              "      <td>23</td>\n",
              "      <td>33</td>\n",
              "      <td>42</td>\n",
              "      <td>9</td>\n",
              "      <td>21</td>\n",
              "      <td>19</td>\n",
              "      <td>17</td>\n",
              "      <td>21</td>\n",
              "      <td>43</td>\n",
              "      <td>32</td>\n",
              "      <td>37</td>\n",
              "      <td>4</td>\n",
              "      <td>16</td>\n",
              "    </tr>\n",
              "    <tr>\n",
              "      <th>...</th>\n",
              "      <td>...</td>\n",
              "      <td>...</td>\n",
              "      <td>...</td>\n",
              "      <td>...</td>\n",
              "      <td>...</td>\n",
              "      <td>...</td>\n",
              "      <td>...</td>\n",
              "      <td>...</td>\n",
              "      <td>...</td>\n",
              "      <td>...</td>\n",
              "      <td>...</td>\n",
              "      <td>...</td>\n",
              "      <td>...</td>\n",
              "      <td>...</td>\n",
              "      <td>...</td>\n",
              "      <td>...</td>\n",
              "      <td>...</td>\n",
              "      <td>...</td>\n",
              "      <td>...</td>\n",
              "      <td>...</td>\n",
              "    </tr>\n",
              "    <tr>\n",
              "      <th>3496</th>\n",
              "      <td>35</td>\n",
              "      <td>11</td>\n",
              "      <td>14</td>\n",
              "      <td>13</td>\n",
              "      <td>17</td>\n",
              "      <td>12</td>\n",
              "      <td>5</td>\n",
              "      <td>31</td>\n",
              "      <td>18</td>\n",
              "      <td>42</td>\n",
              "      <td>8</td>\n",
              "      <td>11</td>\n",
              "      <td>22</td>\n",
              "      <td>10</td>\n",
              "      <td>18</td>\n",
              "      <td>35</td>\n",
              "      <td>31</td>\n",
              "      <td>32</td>\n",
              "      <td>10</td>\n",
              "      <td>15</td>\n",
              "    </tr>\n",
              "    <tr>\n",
              "      <th>3497</th>\n",
              "      <td>6</td>\n",
              "      <td>7</td>\n",
              "      <td>3</td>\n",
              "      <td>9</td>\n",
              "      <td>6</td>\n",
              "      <td>3</td>\n",
              "      <td>0</td>\n",
              "      <td>1</td>\n",
              "      <td>7</td>\n",
              "      <td>7</td>\n",
              "      <td>5</td>\n",
              "      <td>2</td>\n",
              "      <td>3</td>\n",
              "      <td>1</td>\n",
              "      <td>5</td>\n",
              "      <td>8</td>\n",
              "      <td>1</td>\n",
              "      <td>7</td>\n",
              "      <td>3</td>\n",
              "      <td>3</td>\n",
              "    </tr>\n",
              "    <tr>\n",
              "      <th>3498</th>\n",
              "      <td>49</td>\n",
              "      <td>8</td>\n",
              "      <td>38</td>\n",
              "      <td>27</td>\n",
              "      <td>12</td>\n",
              "      <td>25</td>\n",
              "      <td>7</td>\n",
              "      <td>8</td>\n",
              "      <td>31</td>\n",
              "      <td>31</td>\n",
              "      <td>10</td>\n",
              "      <td>7</td>\n",
              "      <td>35</td>\n",
              "      <td>14</td>\n",
              "      <td>17</td>\n",
              "      <td>44</td>\n",
              "      <td>9</td>\n",
              "      <td>10</td>\n",
              "      <td>4</td>\n",
              "      <td>9</td>\n",
              "    </tr>\n",
              "    <tr>\n",
              "      <th>3499</th>\n",
              "      <td>2</td>\n",
              "      <td>8</td>\n",
              "      <td>3</td>\n",
              "      <td>4</td>\n",
              "      <td>2</td>\n",
              "      <td>3</td>\n",
              "      <td>2</td>\n",
              "      <td>4</td>\n",
              "      <td>5</td>\n",
              "      <td>3</td>\n",
              "      <td>0</td>\n",
              "      <td>5</td>\n",
              "      <td>3</td>\n",
              "      <td>1</td>\n",
              "      <td>2</td>\n",
              "      <td>3</td>\n",
              "      <td>9</td>\n",
              "      <td>2</td>\n",
              "      <td>2</td>\n",
              "      <td>3</td>\n",
              "    </tr>\n",
              "    <tr>\n",
              "      <th>3500</th>\n",
              "      <td>38</td>\n",
              "      <td>7</td>\n",
              "      <td>27</td>\n",
              "      <td>42</td>\n",
              "      <td>24</td>\n",
              "      <td>36</td>\n",
              "      <td>12</td>\n",
              "      <td>37</td>\n",
              "      <td>40</td>\n",
              "      <td>48</td>\n",
              "      <td>13</td>\n",
              "      <td>21</td>\n",
              "      <td>27</td>\n",
              "      <td>19</td>\n",
              "      <td>39</td>\n",
              "      <td>45</td>\n",
              "      <td>34</td>\n",
              "      <td>45</td>\n",
              "      <td>10</td>\n",
              "      <td>18</td>\n",
              "    </tr>\n",
              "  </tbody>\n",
              "</table>\n",
              "<p>3501 rows × 20 columns</p>\n",
              "</div>"
            ],
            "text/plain": [
              "        A   C   D   E   F   G   H   I  ...   P    Q   R    S    T   V   W   Y\n",
              "0     116   5  26  46  14  65  20  64  ...  97  183  47  111  127  61   5   9\n",
              "1      31   3  11  10   8  16   2   4  ...  37   21  15   41   18  14   4  15\n",
              "2      15  10  14  20  20  22  17  26  ...  26   14  19   23   22  31  17  22\n",
              "3      28   3  16  17   9  16   5  20  ...  31    9  19   31   13  25   2  10\n",
              "4      31   9  22  28  23  31  16  23  ...  19   17  21   43   32  37   4  16\n",
              "...   ...  ..  ..  ..  ..  ..  ..  ..  ...  ..  ...  ..  ...  ...  ..  ..  ..\n",
              "3496   35  11  14  13  17  12   5  31  ...  22   10  18   35   31  32  10  15\n",
              "3497    6   7   3   9   6   3   0   1  ...   3    1   5    8    1   7   3   3\n",
              "3498   49   8  38  27  12  25   7   8  ...  35   14  17   44    9  10   4   9\n",
              "3499    2   8   3   4   2   3   2   4  ...   3    1   2    3    9   2   2   3\n",
              "3500   38   7  27  42  24  36  12  37  ...  27   19  39   45   34  45  10  18\n",
              "\n",
              "[3501 rows x 20 columns]"
            ]
          },
          "metadata": {
            "tags": []
          },
          "execution_count": 20
        }
      ]
    },
    {
      "cell_type": "code",
      "metadata": {
        "colab": {
          "base_uri": "https://localhost:8080/",
          "height": 391
        },
        "id": "VhoWQwYo4hbY",
        "outputId": "4c532854-92c0-4ea1-84e1-2f73b1e0697d"
      },
      "source": [
        "tidy_aminoacids = deeploc_train_set.melt(\n",
        "    var_name=\"Amino acid\", \n",
        "    value_name=\"Count\" \n",
        ")\n",
        "tidy_aminoacids"
      ],
      "execution_count": null,
      "outputs": [
        {
          "output_type": "execute_result",
          "data": {
            "text/html": [
              "<div>\n",
              "<style scoped>\n",
              "    .dataframe tbody tr th:only-of-type {\n",
              "        vertical-align: middle;\n",
              "    }\n",
              "\n",
              "    .dataframe tbody tr th {\n",
              "        vertical-align: top;\n",
              "    }\n",
              "\n",
              "    .dataframe thead th {\n",
              "        text-align: right;\n",
              "    }\n",
              "</style>\n",
              "<table border=\"1\" class=\"dataframe\">\n",
              "  <thead>\n",
              "    <tr style=\"text-align: right;\">\n",
              "      <th></th>\n",
              "      <th>Amino acid</th>\n",
              "      <th>Count</th>\n",
              "    </tr>\n",
              "  </thead>\n",
              "  <tbody>\n",
              "    <tr>\n",
              "      <th>0</th>\n",
              "      <td>A</td>\n",
              "      <td>40</td>\n",
              "    </tr>\n",
              "    <tr>\n",
              "      <th>1</th>\n",
              "      <td>A</td>\n",
              "      <td>59</td>\n",
              "    </tr>\n",
              "    <tr>\n",
              "      <th>2</th>\n",
              "      <td>A</td>\n",
              "      <td>25</td>\n",
              "    </tr>\n",
              "    <tr>\n",
              "      <th>3</th>\n",
              "      <td>A</td>\n",
              "      <td>37</td>\n",
              "    </tr>\n",
              "    <tr>\n",
              "      <th>4</th>\n",
              "      <td>A</td>\n",
              "      <td>10</td>\n",
              "    </tr>\n",
              "    <tr>\n",
              "      <th>...</th>\n",
              "      <td>...</td>\n",
              "      <td>...</td>\n",
              "    </tr>\n",
              "    <tr>\n",
              "      <th>210055</th>\n",
              "      <td>Y</td>\n",
              "      <td>10</td>\n",
              "    </tr>\n",
              "    <tr>\n",
              "      <th>210056</th>\n",
              "      <td>Y</td>\n",
              "      <td>11</td>\n",
              "    </tr>\n",
              "    <tr>\n",
              "      <th>210057</th>\n",
              "      <td>Y</td>\n",
              "      <td>4</td>\n",
              "    </tr>\n",
              "    <tr>\n",
              "      <th>210058</th>\n",
              "      <td>Y</td>\n",
              "      <td>11</td>\n",
              "    </tr>\n",
              "    <tr>\n",
              "      <th>210059</th>\n",
              "      <td>Y</td>\n",
              "      <td>22</td>\n",
              "    </tr>\n",
              "  </tbody>\n",
              "</table>\n",
              "<p>210060 rows × 2 columns</p>\n",
              "</div>"
            ],
            "text/plain": [
              "       Amino acid  Count\n",
              "0               A     40\n",
              "1               A     59\n",
              "2               A     25\n",
              "3               A     37\n",
              "4               A     10\n",
              "...           ...    ...\n",
              "210055          Y     10\n",
              "210056          Y     11\n",
              "210057          Y      4\n",
              "210058          Y     11\n",
              "210059          Y     22\n",
              "\n",
              "[210060 rows x 2 columns]"
            ]
          },
          "metadata": {
            "tags": []
          },
          "execution_count": 37
        }
      ]
    },
    {
      "cell_type": "code",
      "metadata": {
        "colab": {
          "base_uri": "https://localhost:8080/",
          "height": 398
        },
        "id": "UIj-_leR4znK",
        "outputId": "f0a9a40f-bb24-4b4c-a2fe-96e6cac7883d"
      },
      "source": [
        "# visualize distribution of amino acid counts of the training set \n",
        "sns.catplot(data=tidy_aminoacids,\n",
        "            x='Count',\n",
        "            y='Amino acid',\n",
        "            kind='bar')"
      ],
      "execution_count": null,
      "outputs": [
        {
          "output_type": "execute_result",
          "data": {
            "text/plain": [
              "<seaborn.axisgrid.FacetGrid at 0x7fc2c7360bd0>"
            ]
          },
          "metadata": {
            "tags": []
          },
          "execution_count": 40
        },
        {
          "output_type": "display_data",
          "data": {
            "image/png": "[encoded data removed]",
            "text/plain": [
              "<Figure size 360x360 with 1 Axes>"
            ]
          },
          "metadata": {
            "tags": [],
            "needs_background": "light"
          }
        }
      ]
    },
    {
      "cell_type": "code",
      "metadata": {
        "id": "Oa-i7dv-5ElQ"
      },
      "source": [
        "# Pipeline\n",
        "num_vars = ['A', 'C', 'D', 'E', 'F', 'G', 'H', 'I', 'K', 'L', 'M', 'N', 'P', 'Q', 'R', 'S', 'T', 'V', 'W', 'Y']\n",
        "# cat_vars = ['Subcellular location']\n",
        "num_pipeline = Pipeline([\n",
        "        ('std_scaler', StandardScaler()),      \n",
        "    ])\n",
        "\n",
        "full_pipeline = ColumnTransformer([\n",
        "        (\"num\", num_pipeline, num_vars),\n",
        "        ])\n",
        "\n",
        "deeploc_train_prepared = full_pipeline.fit_transform(deeploc_train_set)\n",
        "deeploc_test_prepared = full_pipeline.fit_transform(deeploc_test_set)"
      ],
      "execution_count": null,
      "outputs": []
    },
    {
      "cell_type": "code",
      "metadata": {
        "colab": {
          "base_uri": "https://localhost:8080/"
        },
        "id": "ERVvOH6_Bm6S",
        "outputId": "3c45e05e-92d3-4e1c-cac0-e55a860f44ed"
      },
      "source": [
        "deeploc_train_prepared"
      ],
      "execution_count": null,
      "outputs": [
        {
          "output_type": "execute_result",
          "data": {
            "text/plain": [
              "array([[ 1.41683279e-01, -2.84858133e-01,  2.37157442e-01, ...,\n",
              "         5.76927917e-01, -3.19354949e-01, -1.18003314e-03],\n",
              "       [ 7.28400234e-01, -3.67181138e-01, -2.06157297e-01, ...,\n",
              "         3.16455825e-01,  6.84791852e-01,  1.53743568e-01],\n",
              "       [-3.21514317e-01, -6.96473158e-01, -8.50978734e-01, ...,\n",
              "        -4.64960452e-01, -9.88786150e-01, -9.30721641e-01],\n",
              "       ...,\n",
              "       [-7.22952234e-01, -6.96473158e-01, -8.50978734e-01, ...,\n",
              "        -9.48694337e-01, -6.54070550e-01, -8.53259841e-01],\n",
              "       [-6.30312715e-01, -4.49504143e-01, -4.07663996e-01, ...,\n",
              "        -2.78908957e-01,  1.82718451e-01, -3.11027236e-01],\n",
              "       [-7.44755994e-02, -2.02535128e-01, -4.49519372e-02, ...,\n",
              "         1.87734337e-02,  1.68893865e+00,  5.41052572e-01]])"
            ]
          },
          "metadata": {
            "tags": []
          },
          "execution_count": 22
        }
      ]
    },
    {
      "cell_type": "code",
      "metadata": {
        "colab": {
          "base_uri": "https://localhost:8080/"
        },
        "id": "-oF2sFTiBqky",
        "outputId": "72d89d98-9170-4ef0-f094-451c555e06e2"
      },
      "source": [
        "deeploc_test_prepared"
      ],
      "execution_count": null,
      "outputs": [
        {
          "output_type": "execute_result",
          "data": {
            "text/plain": [
              "array([[ 2.41019785, -0.39685937, -0.05156201, ...,  0.90731013,\n",
              "        -0.17183013, -0.4125711 ],\n",
              "       [-0.14815282, -0.56545598, -0.48136818, ..., -0.56894502,\n",
              "        -0.3360609 , -0.0100786 ],\n",
              "       [-0.62972471,  0.02463215, -0.39540694, ..., -0.03498039,\n",
              "         1.79893907,  0.45949599],\n",
              "       ...,\n",
              "       [ 0.39361556, -0.14396446,  0.29228293, ..., -0.69458376,\n",
              "        -0.3360609 , -0.4125711 ],\n",
              "       [-1.02100187, -0.14396446, -0.71059813, ..., -0.94586123,\n",
              "        -0.66452243, -0.8150636 ],\n",
              "       [ 0.06253488, -0.22826276, -0.02290826, ...,  0.40475518,\n",
              "         0.6493237 ,  0.19116765]])"
            ]
          },
          "metadata": {
            "tags": []
          },
          "execution_count": 23
        }
      ]
    },
    {
      "cell_type": "code",
      "metadata": {
        "colab": {
          "base_uri": "https://localhost:8080/"
        },
        "id": "SZprmINIzKr7",
        "outputId": "e7963425-3f9d-4a8d-b900-cbf82c4388bd"
      },
      "source": [
        "# hotencoder = OneHotEncoder()\n",
        "# deeploc_labels_dataframe = deeploc_train_labels.to_frame()\n",
        "# train_label_1hot = hotencoder.fit_transform(deeploc_labels_dataframe)\n",
        "# train_label_1hot = train_label_1hot.toarray()\n",
        "# encode the training set labels by ordinal encoding\n",
        "ordinal_encoder = OrdinalEncoder()\n",
        "deeploc_labels_dataframe = deeploc_train_labels.to_frame()\n",
        "train_labels_encoded = ordinal_encoder.fit_transform(deeploc_labels_dataframe).ravel()\n",
        "train_labels_encoded[:10]"
      ],
      "execution_count": null,
      "outputs": [
        {
          "output_type": "execute_result",
          "data": {
            "text/plain": [
              "array([ 4.,  0., 10.,  8.,  7.,  3.,  1.,  0.,  0.,  1.])"
            ]
          },
          "metadata": {
            "tags": []
          },
          "execution_count": 24
        }
      ]
    },
    {
      "cell_type": "code",
      "metadata": {
        "colab": {
          "base_uri": "https://localhost:8080/"
        },
        "id": "6ijCfMNUfpE0",
        "outputId": "db38ab53-711f-48e8-b191-d8a6cf4bac26"
      },
      "source": [
        "ordinal_encoder.categories_"
      ],
      "execution_count": null,
      "outputs": [
        {
          "output_type": "execute_result",
          "data": {
            "text/plain": [
              "[array(['Cell.membrane', 'Cytoplasm', 'Cytoplasm_Nucleus',\n",
              "        'Endoplasmic.reticulum', 'Extracellular', 'Golgi.apparatus',\n",
              "        'Lysosome/Vacuole', 'Mitochondrion', 'Nucleus', 'Peroxisome',\n",
              "        'Plastid'], dtype=object)]"
            ]
          },
          "metadata": {
            "tags": []
          },
          "execution_count": 25
        }
      ]
    },
    {
      "cell_type": "code",
      "metadata": {
        "colab": {
          "base_uri": "https://localhost:8080/"
        },
        "id": "3dUdqyCIJhbA",
        "outputId": "89db3562-6616-4a59-f2fd-8da4d1a31331"
      },
      "source": [
        "# deeploc_labels_dataframe_test = deeploc_test_labels.to_frame()\n",
        "# test_label_1hot = hotencoder.fit_transform(deeploc_labels_dataframe_test)\n",
        "# test_label_1hot = test_label_1hot.toarray()\n",
        "# encode the test set labels by ordinal encoding\n",
        "deeploc_test_dataframe = deeploc_test_labels.to_frame()\n",
        "test_labels_encoded = ordinal_encoder.fit_transform(deeploc_test_dataframe).ravel()\n",
        "test_labels_encoded[:10]"
      ],
      "execution_count": null,
      "outputs": [
        {
          "output_type": "execute_result",
          "data": {
            "text/plain": [
              "array([ 8.,  8.,  5., 10., 10.,  8.,  4.,  4.,  1.,  7.])"
            ]
          },
          "metadata": {
            "tags": []
          },
          "execution_count": 26
        }
      ]
    },
    {
      "cell_type": "code",
      "metadata": {
        "id": "WupoEKszw9j3"
      },
      "source": [
        "# from sklearn.metrics import accuracy_score, f1_score, precision_score, recall_score\n",
        "# def get_metrics(tset, pred):\n",
        "#   accuracy = accuracy_score(tset, pred)\n",
        "#   precision = precision_score(tset, labes, average='weighted')\n",
        "#   recall = recall_score(tset, pred, average='weighted')\n",
        "#   return accuracy, precision, recall\n",
        "# get_metrics(deeploc_test_set, svm_predict)\n",
        "# print(\"Accuracy = %.3f \\nPrecision = %.3f \\nRecall = %.3f\" % (accuracy, precision, recall))"
      ],
      "execution_count": null,
      "outputs": []
    },
    {
      "cell_type": "code",
      "metadata": {
        "id": "joSuIkQKqSag"
      },
      "source": [
        "from sklearn.linear_model import LogisticRegression\n",
        "from sklearn import svm\n",
        "from sklearn.ensemble import RandomForestClassifier\n",
        "from sklearn.tree import DecisionTreeClassifier\n",
        "from sklearn import metrics\n",
        "from sklearn.metrics import plot_confusion_matrix\n",
        "from sklearn.model_selection import cross_val_score"
      ],
      "execution_count": null,
      "outputs": []
    },
    {
      "cell_type": "code",
      "metadata": {
        "colab": {
          "base_uri": "https://localhost:8080/"
        },
        "id": "x2UW1FXx3ghQ",
        "outputId": "8f6b384e-8263-4b6f-de23-692da94a7711"
      },
      "source": [
        "# decision tree model\n",
        "dt_model = DecisionTreeClassifier(random_state = 7)\n",
        "dt_model.fit(deeploc_train_prepared, train_labels_encoded)"
      ],
      "execution_count": null,
      "outputs": [
        {
          "output_type": "execute_result",
          "data": {
            "text/plain": [
              "DecisionTreeClassifier(ccp_alpha=0.0, class_weight=None, criterion='gini',\n",
              "                       max_depth=None, max_features=None, max_leaf_nodes=None,\n",
              "                       min_impurity_decrease=0.0, min_impurity_split=None,\n",
              "                       min_samples_leaf=1, min_samples_split=2,\n",
              "                       min_weight_fraction_leaf=0.0, presort='deprecated',\n",
              "                       random_state=7, splitter='best')"
            ]
          },
          "metadata": {
            "tags": []
          },
          "execution_count": 29
        }
      ]
    },
    {
      "cell_type": "code",
      "metadata": {
        "id": "GMYT7Mqj3j1F"
      },
      "source": [
        "# decision tree predicting test set\n",
        "dt_predict = dt_model.predict(deeploc_test_prepared)"
      ],
      "execution_count": null,
      "outputs": []
    },
    {
      "cell_type": "code",
      "metadata": {
        "colab": {
          "base_uri": "https://localhost:8080/"
        },
        "id": "vD_kZy0874nb",
        "outputId": "6aab4336-3e7f-4e2a-f2bd-0f0e7f827b86"
      },
      "source": [
        "# decision tree ten-fold cross-validation\n",
        "dt_scores = cross_val_score(dt_model, deeploc_train_prepared, train_labels_encoded, cv = 10)\n",
        "print(\"Decision Tree Accuracy CV = 5: %0.2f (+/- %0.2f)\" % (dt_scores.mean(), dt_scores.std() * 2))"
      ],
      "execution_count": null,
      "outputs": [
        {
          "output_type": "stream",
          "text": [
            "Decision Tree Accuracy CV = 5: 0.40 (+/- 0.02)\n"
          ],
          "name": "stdout"
        }
      ]
    },
    {
      "cell_type": "code",
      "metadata": {
        "colab": {
          "base_uri": "https://localhost:8080/"
        },
        "id": "pvhfLGh4v2wt",
        "outputId": "ba38784c-0fd6-4808-c4a2-cd9b2621c46b"
      },
      "source": [
        "# svm model \n",
        "svm_model = svm.LinearSVC(random_state = 7, max_iter=30000, dual=False)\n",
        "svm_model.fit(deeploc_train_prepared, train_labels_encoded)"
      ],
      "execution_count": null,
      "outputs": [
        {
          "output_type": "execute_result",
          "data": {
            "text/plain": [
              "LinearSVC(C=1.0, class_weight=None, dual=False, fit_intercept=True,\n",
              "          intercept_scaling=1, loss='squared_hinge', max_iter=30000,\n",
              "          multi_class='ovr', penalty='l2', random_state=7, tol=0.0001,\n",
              "          verbose=0)"
            ]
          },
          "metadata": {
            "tags": []
          },
          "execution_count": 31
        }
      ]
    },
    {
      "cell_type": "code",
      "metadata": {
        "id": "G-YhmLFxyF6n"
      },
      "source": [
        "# svm model predicting test set\n",
        "svm_predict = svm_model.predict(deeploc_test_prepared)"
      ],
      "execution_count": null,
      "outputs": []
    },
    {
      "cell_type": "code",
      "metadata": {
        "colab": {
          "base_uri": "https://localhost:8080/"
        },
        "id": "8Y3Jh4NO8IxV",
        "outputId": "2eb907df-0edf-4f6d-e7fd-7c579e1d82b6"
      },
      "source": [
        "# svm model ten-fold cross-validation\n",
        "svm_scores = cross_val_score(svm_model, deeploc_train_prepared, train_labels_encoded, cv = 10)\n",
        "print(\"Support Vector Machine Accuracy CV = 10: %0.2f (+/- %0.2f)\" % (svm_scores.mean(), svm_scores.std() * 2))"
      ],
      "execution_count": null,
      "outputs": [
        {
          "output_type": "stream",
          "text": [
            "Support Vector Machine Accuracy CV = 10: 0.45 (+/- 0.01)\n"
          ],
          "name": "stdout"
        }
      ]
    },
    {
      "cell_type": "code",
      "metadata": {
        "colab": {
          "base_uri": "https://localhost:8080/",
          "height": 785
        },
        "id": "pe6SG-j-K9Z8",
        "outputId": "a4594c81-2182-41d2-ed1b-f889482bfb29"
      },
      "source": [
        "# svm confusion matrix and metrics\n",
        "target_names = ['0', '1', '2', '3', '4', '5', '6', '7', '8', '9', '10']\n",
        "print(metrics.confusion_matrix(test_labels_encoded, dt_predict))\n",
        "plot_confusion_matrix(svm_model, deeploc_test_prepared, test_labels_encoded, cmap = \"Blues\", values_format='d')\n",
        "plt.show()\n",
        "print(metrics.classification_report(test_labels_encoded, svm_predict, target_names = target_names))"
      ],
      "execution_count": null,
      "outputs": [
        {
          "output_type": "stream",
          "text": [
            "[[110  44   1  37  16  13  13  19  47   4  15]\n",
            " [ 36 211   7  24  29  15   7  52 219   5  29]\n",
            " [  2   6   4   1   2   1   0   3  15   0   0]\n",
            " [ 25  36   1  55  17  13   4  17  24   5  13]\n",
            " [ 26  51   3  15 269  12   8  30  66   3  16]\n",
            " [  3  10   1  16   6  13   2   8  13   0   7]\n",
            " [ 14  18   0  11  11   5   8   9  11   2   2]\n",
            " [ 31  72   7  27  44   7   6  81  85   7  32]\n",
            " [ 47 195  15  21  38  19  15  61 536   6  36]\n",
            " [  4  10   0   3   3   1   0   5   3   2   5]\n",
            " [ 13  48   1  19  14  11   6  21  31   4  43]]\n"
          ],
          "name": "stdout"
        },
        {
          "output_type": "display_data",
          "data": {
            "image/png": "[encoded data removed]",
            "text/plain": [
              "<Figure size 432x288 with 2 Axes>"
            ]
          },
          "metadata": {
            "tags": [],
            "needs_background": "light"
          }
        },
        {
          "output_type": "stream",
          "text": [
            "              precision    recall  f1-score   support\n",
            "\n",
            "           0       0.49      0.50      0.50       319\n",
            "           1       0.32      0.13      0.19       634\n",
            "           2       0.00      0.00      0.00        34\n",
            "           3       0.55      0.10      0.18       210\n",
            "           4       0.42      0.81      0.55       499\n",
            "           5       0.00      0.00      0.00        79\n",
            "           6       0.00      0.00      0.00        91\n",
            "           7       0.30      0.06      0.10       399\n",
            "           8       0.44      0.82      0.58       989\n",
            "           9       0.00      0.00      0.00        36\n",
            "          10       0.58      0.03      0.06       211\n",
            "\n",
            "    accuracy                           0.43      3501\n",
            "   macro avg       0.28      0.22      0.20      3501\n",
            "weighted avg       0.39      0.43      0.35      3501\n",
            "\n"
          ],
          "name": "stdout"
        },
        {
          "output_type": "stream",
          "text": [
            "/usr/local/lib/python3.7/dist-packages/sklearn/metrics/_classification.py:1272: UndefinedMetricWarning: Precision and F-score are ill-defined and being set to 0.0 in labels with no predicted samples. Use `zero_division` parameter to control this behavior.\n",
            "  _warn_prf(average, modifier, msg_start, len(result))\n"
          ],
          "name": "stderr"
        }
      ]
    },
    {
      "cell_type": "code",
      "metadata": {
        "colab": {
          "base_uri": "https://localhost:8080/",
          "height": 750
        },
        "id": "3vkXB3ms3xCe",
        "outputId": "86b5b4f0-cdd9-4b57-a93b-e999f4597f0a"
      },
      "source": [
        "# decision tree confusion matrix and metrics\n",
        "print(metrics.confusion_matrix(test_labels_encoded, dt_predict))\n",
        "plot_confusion_matrix(dt_model, deeploc_test_prepared, test_labels_encoded, cmap = \"Blues\", values_format='d')\n",
        "plt.show()\n",
        "print(metrics.classification_report(test_labels_encoded, dt_predict, target_names = target_names))"
      ],
      "execution_count": null,
      "outputs": [
        {
          "output_type": "stream",
          "text": [
            "[[110  44   1  37  16  13  13  19  47   4  15]\n",
            " [ 36 211   7  24  29  15   7  52 219   5  29]\n",
            " [  2   6   4   1   2   1   0   3  15   0   0]\n",
            " [ 25  36   1  55  17  13   4  17  24   5  13]\n",
            " [ 26  51   3  15 269  12   8  30  66   3  16]\n",
            " [  3  10   1  16   6  13   2   8  13   0   7]\n",
            " [ 14  18   0  11  11   5   8   9  11   2   2]\n",
            " [ 31  72   7  27  44   7   6  81  85   7  32]\n",
            " [ 47 195  15  21  38  19  15  61 536   6  36]\n",
            " [  4  10   0   3   3   1   0   5   3   2   5]\n",
            " [ 13  48   1  19  14  11   6  21  31   4  43]]\n"
          ],
          "name": "stdout"
        },
        {
          "output_type": "display_data",
          "data": {
            "image/png": "[encoded data removed]",
            "text/plain": [
              "<Figure size 432x288 with 2 Axes>"
            ]
          },
          "metadata": {
            "tags": [],
            "needs_background": "light"
          }
        },
        {
          "output_type": "stream",
          "text": [
            "              precision    recall  f1-score   support\n",
            "\n",
            "           0       0.35      0.34      0.35       319\n",
            "           1       0.30      0.33      0.32       634\n",
            "           2       0.10      0.12      0.11        34\n",
            "           3       0.24      0.26      0.25       210\n",
            "           4       0.60      0.54      0.57       499\n",
            "           5       0.12      0.16      0.14        79\n",
            "           6       0.12      0.09      0.10        91\n",
            "           7       0.26      0.20      0.23       399\n",
            "           8       0.51      0.54      0.53       989\n",
            "           9       0.05      0.06      0.05        36\n",
            "          10       0.22      0.20      0.21       211\n",
            "\n",
            "    accuracy                           0.38      3501\n",
            "   macro avg       0.26      0.26      0.26      3501\n",
            "weighted avg       0.38      0.38      0.38      3501\n",
            "\n"
          ],
          "name": "stdout"
        }
      ]
    },
    {
      "cell_type": "markdown",
      "metadata": {
        "id": "-d3QQIXdO-y0"
      },
      "source": [
        "# ANS\n",
        "SVM linear classifer performed better than decision tree classifer. Precision (0.39), recall (0.43), and accuracy (0.43) of the SVM linear classifer were higher than the decision tree classifer (0.38, 0.26, 0.38, respectively). It is possible that SVM linear classifer performed better because the data set is more linear (which favors for SVM linear classifer). Even if the data was non-linear, the SVM model adapts to the non-linearity due to how flexible creating hyper-planes is. However, due to poor accuracy, precision, and recall, it is hard to say. Looking at the data, there were instances where there was not enough data for SVM to classify labels '2' and '9' (Cytoplasm_Nucleus & Peroxisome) while the decision tree model was able to classify them but with low precision and recall scores. Running 10-fold cross-validation between the SVM and decision tree models, SVM gave a higher accuracy score (0.45) compared to the decision tree model (0.40). "
      ]
    }
  ]
}